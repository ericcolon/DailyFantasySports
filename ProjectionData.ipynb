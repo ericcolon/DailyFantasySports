{
 "cells": [
  {
   "cell_type": "markdown",
   "metadata": {},
   "source": [
    "# Part 1: How to get data on player projections\n",
    "___________\n",
    "\n",
    "### Overview\n",
    "What makes daily fantasy sports (DFS) so unique compared to traditional fantasy is that you can create any number of different lineups as long as you fill the required positions and stay under the salary cap. This makes for a virtually unlimited number of combinations. In order to truly optimize your lineups you need to have accurate projections of how they are expected to perform. \n",
    "\n",
    "As mentioned, one of the pieces of data that I wanted to include in my database was information on player projections. I was specifically looking for data on the number of points that player was *projected* to score for that week.\n",
    "\n",
    "After doing some research I was able to find weekly projection data on [Rotogrinders](http://rotogrinders.com/projected-stats/nfl-flex?site=draftkings). The website offers a subscription service where they provide tools and loads of statistics on players and matchups. For non-subscribers they do offer projection data, although limited, still gives me what I need.\n",
    "\n",
    "You can get weekly projection data on every position:\n",
    "\n",
    "- QB\n",
    "- RB\n",
    "- WR\n",
    "- TE\n",
    "- Flex\n",
    "- Defense\n",
    "- Kicker\n",
    "\n",
    "Here's a screenshot of how the projection data appears on their site:\n",
    "\n",
    "![DraftKings Projections](Desktop/Fantasy/rotogrinders.jpg)\n",
    "\n",
    "For the purposes of this project I'm going to show you how to grab projection data from the web then do some cleaning and exploratory analysis."
   ]
  },
  {
   "cell_type": "markdown",
   "metadata": {},
   "source": [
    "## 1a: Getting the data\n",
    "\n",
    "Looking at their site you can see they have a nice table with lots of data about the player and their projected output. You can see the information for non-subscribers is hidden, but that still leaves us with the data I originally wanted: **projected points**.\n",
    "\n",
    "You can see they offer this data as a flat file.\n",
    "\n",
    "If you click on **QB** and then right-click on the *Download as CSV* button, we can inspect the URL:\n",
    "\n",
    "`https://rotogrinders.com/projected-stats/nfl-qb.csv?site=draftkings`\n",
    "\n",
    "I did the same thing with the other positions to verify that the links were constructed the same way. The only difference is that the link changes for each position you click. Now we can grab the data for each position and combine them into a single list."
   ]
  },
  {
   "cell_type": "code",
   "execution_count": 108,
   "metadata": {},
   "outputs": [
    {
     "data": {
      "text/plain": [
       "pandas.core.frame.DataFrame"
      ]
     },
     "execution_count": 108,
     "metadata": {},
     "output_type": "execute_result"
    }
   ],
   "source": [
    "#Import necessary libraries\n",
    "import pandas as pd\n",
    "import time\n",
    "import numpy as np\n",
    "import matplotlib.pyplot as plt\n",
    "%matplotlib inline\n",
    "import seaborn as sns\n",
    "\n",
    "#We're going to export this to a new .csv file later: file_name\n",
    "file_name = 'player_projections_'\n",
    "timestr = time.strftime(\"%d%%m%Y\")\n",
    "\n",
    "#Create a list that holds every URL we want data for: url\n",
    "url = ['https://rotogrinders.com/projected-stats/nfl-qb.csv?site=draftkings',\\\n",
    "      'https://rotogrinders.com/projected-stats/nfl-rb.csv?site=draftkings',\\\n",
    "      'https://rotogrinders.com/projected-stats/nfl-wr.csv?site=draftkings',\\\n",
    "      'https://rotogrinders.com/projected-stats/nfl-te.csv?site=draftkings']\n",
    "\n",
    "#Loop through each url, read each .csv file into a list, append all of the lists together, then concatenate the\n",
    "#the lists into a single dataframe\n",
    "\n",
    "df_list = [] #Initiate an emtpy list to hold our files: df_list\n",
    "\n",
    "#Loop through each link\n",
    "for data in url:\n",
    "    df_list.append(pd.read_csv(data,header=None))\n",
    "\n",
    "df = pd.concat(df_list,sort=False) #Concatenate our lists into a single DataFrame that we will use:df\n",
    "type(df)\n",
    "\n"
   ]
  },
  {
   "cell_type": "markdown",
   "metadata": {},
   "source": [
    "## 1b. Exploratory data analysis\n",
    "\n",
    "Now that our data has been loaded into a single DataFrame we should do a sanity check. We'll do that by looking at the first few rows, checking the data types, looking for missing data, and looking at some descriptive statistics."
   ]
  },
  {
   "cell_type": "code",
   "execution_count": 97,
   "metadata": {
    "scrolled": true
   },
   "outputs": [
    {
     "data": {
      "text/html": [
       "<div>\n",
       "<style scoped>\n",
       "    .dataframe tbody tr th:only-of-type {\n",
       "        vertical-align: middle;\n",
       "    }\n",
       "\n",
       "    .dataframe tbody tr th {\n",
       "        vertical-align: top;\n",
       "    }\n",
       "\n",
       "    .dataframe thead th {\n",
       "        text-align: right;\n",
       "    }\n",
       "</style>\n",
       "<table border=\"1\" class=\"dataframe\">\n",
       "  <thead>\n",
       "    <tr style=\"text-align: right;\">\n",
       "      <th></th>\n",
       "      <th>0</th>\n",
       "      <th>1</th>\n",
       "      <th>2</th>\n",
       "      <th>3</th>\n",
       "      <th>4</th>\n",
       "      <th>5</th>\n",
       "      <th>6</th>\n",
       "      <th>7</th>\n",
       "    </tr>\n",
       "  </thead>\n",
       "  <tbody>\n",
       "    <tr>\n",
       "      <th>0</th>\n",
       "      <td>Baker Mayfield</td>\n",
       "      <td>5400</td>\n",
       "      <td>CLE</td>\n",
       "      <td>QB</td>\n",
       "      <td>ATL</td>\n",
       "      <td>30.18435</td>\n",
       "      <td>9.81225</td>\n",
       "      <td>18.69</td>\n",
       "    </tr>\n",
       "    <tr>\n",
       "      <th>1</th>\n",
       "      <td>Philip Rivers</td>\n",
       "      <td>6000</td>\n",
       "      <td>LAC</td>\n",
       "      <td>QB</td>\n",
       "      <td>OAK</td>\n",
       "      <td>35.52660</td>\n",
       "      <td>12.41238</td>\n",
       "      <td>21.93</td>\n",
       "    </tr>\n",
       "    <tr>\n",
       "      <th>2</th>\n",
       "      <td>Matt Ryan</td>\n",
       "      <td>6100</td>\n",
       "      <td>ATL</td>\n",
       "      <td>QB</td>\n",
       "      <td>CLE</td>\n",
       "      <td>31.57110</td>\n",
       "      <td>9.12054</td>\n",
       "      <td>21.26</td>\n",
       "    </tr>\n",
       "    <tr>\n",
       "      <th>3</th>\n",
       "      <td>Marcus Mariota</td>\n",
       "      <td>5500</td>\n",
       "      <td>TEN</td>\n",
       "      <td>QB</td>\n",
       "      <td>NEP</td>\n",
       "      <td>31.16288</td>\n",
       "      <td>9.89184</td>\n",
       "      <td>17.92</td>\n",
       "    </tr>\n",
       "    <tr>\n",
       "      <th>4</th>\n",
       "      <td>Andy Dalton</td>\n",
       "      <td>5000</td>\n",
       "      <td>CIN</td>\n",
       "      <td>QB</td>\n",
       "      <td>NOS</td>\n",
       "      <td>30.70400</td>\n",
       "      <td>9.99799</td>\n",
       "      <td>19.19</td>\n",
       "    </tr>\n",
       "    <tr>\n",
       "      <th>5</th>\n",
       "      <td>Tom Brady</td>\n",
       "      <td>6000</td>\n",
       "      <td>NEP</td>\n",
       "      <td>QB</td>\n",
       "      <td>TEN</td>\n",
       "      <td>31.55360</td>\n",
       "      <td>10.35840</td>\n",
       "      <td>20.80</td>\n",
       "    </tr>\n",
       "    <tr>\n",
       "      <th>6</th>\n",
       "      <td>Derek Carr</td>\n",
       "      <td>4700</td>\n",
       "      <td>OAK</td>\n",
       "      <td>QB</td>\n",
       "      <td>LAC</td>\n",
       "      <td>27.68381</td>\n",
       "      <td>9.58485</td>\n",
       "      <td>17.27</td>\n",
       "    </tr>\n",
       "    <tr>\n",
       "      <th>7</th>\n",
       "      <td>Russell Wilson</td>\n",
       "      <td>5700</td>\n",
       "      <td>SEA</td>\n",
       "      <td>QB</td>\n",
       "      <td>LAR</td>\n",
       "      <td>31.63552</td>\n",
       "      <td>10.65556</td>\n",
       "      <td>19.48</td>\n",
       "    </tr>\n",
       "    <tr>\n",
       "      <th>8</th>\n",
       "      <td>Eli Manning</td>\n",
       "      <td>5200</td>\n",
       "      <td>NYG</td>\n",
       "      <td>QB</td>\n",
       "      <td>SFO</td>\n",
       "      <td>29.22295</td>\n",
       "      <td>8.98890</td>\n",
       "      <td>18.05</td>\n",
       "    </tr>\n",
       "    <tr>\n",
       "      <th>9</th>\n",
       "      <td>Nick Mullens</td>\n",
       "      <td>5200</td>\n",
       "      <td>SFO</td>\n",
       "      <td>QB</td>\n",
       "      <td>NYG</td>\n",
       "      <td>32.08542</td>\n",
       "      <td>10.28424</td>\n",
       "      <td>17.61</td>\n",
       "    </tr>\n",
       "  </tbody>\n",
       "</table>\n",
       "</div>"
      ],
      "text/plain": [
       "                0     1    2   3    4         5         6      7\n",
       "0  Baker Mayfield  5400  CLE  QB  ATL  30.18435   9.81225  18.69\n",
       "1   Philip Rivers  6000  LAC  QB  OAK  35.52660  12.41238  21.93\n",
       "2       Matt Ryan  6100  ATL  QB  CLE  31.57110   9.12054  21.26\n",
       "3  Marcus Mariota  5500  TEN  QB  NEP  31.16288   9.89184  17.92\n",
       "4     Andy Dalton  5000  CIN  QB  NOS  30.70400   9.99799  19.19\n",
       "5       Tom Brady  6000  NEP  QB  TEN  31.55360  10.35840  20.80\n",
       "6      Derek Carr  4700  OAK  QB  LAC  27.68381   9.58485  17.27\n",
       "7  Russell Wilson  5700  SEA  QB  LAR  31.63552  10.65556  19.48\n",
       "8     Eli Manning  5200  NYG  QB  SFO  29.22295   8.98890  18.05\n",
       "9    Nick Mullens  5200  SFO  QB  NYG  32.08542  10.28424  17.61"
      ]
     },
     "execution_count": 97,
     "metadata": {},
     "output_type": "execute_result"
    }
   ],
   "source": [
    "#Inspect the first 10 rows\n",
    "df.head(10)"
   ]
  },
  {
   "cell_type": "code",
   "execution_count": 98,
   "metadata": {
    "scrolled": true
   },
   "outputs": [
    {
     "name": "stdout",
     "output_type": "stream",
     "text": [
      "<class 'pandas.core.frame.DataFrame'>\n",
      "Int64Index: 303 entries, 0 to 66\n",
      "Data columns (total 8 columns):\n",
      "0    303 non-null object\n",
      "1    303 non-null int64\n",
      "2    303 non-null object\n",
      "3    303 non-null object\n",
      "4    303 non-null object\n",
      "5    303 non-null float64\n",
      "6    303 non-null float64\n",
      "7    303 non-null float64\n",
      "dtypes: float64(3), int64(1), object(4)\n",
      "memory usage: 21.3+ KB\n"
     ]
    }
   ],
   "source": [
    "#Check the shape, data types, and check for missing data\n",
    "\n",
    "df.info()"
   ]
  },
  {
   "cell_type": "markdown",
   "metadata": {},
   "source": [
    "This looks to have loaded everything. Each observation in the dataset corresponds to projection data for a single player for a single game that week. Our dataset is made up of 303 rows x 8 columns and the data types are correct. Player names, their position, current team and opponent are all loaded as strings while their salary and projected ceiling, floor, and total points were loaded as numeric data.\n",
    "\n",
    "Let's add column headers get a frequency count by position to see how many unique projections there are for each position in the dataset."
   ]
  },
  {
   "cell_type": "code",
   "execution_count": 99,
   "metadata": {},
   "outputs": [
    {
     "data": {
      "text/plain": [
       "Index(['PlayerName', 'DkSalary', 'TeamID', 'Position', 'OpponentID', 'Ceiling',\n",
       "       'Floor', 'Points'],\n",
       "      dtype='object')"
      ]
     },
     "execution_count": 99,
     "metadata": {},
     "output_type": "execute_result"
    }
   ],
   "source": [
    "#Add column headers\n",
    "df.columns = ['PlayerName','DkSalary','TeamID','Position','OpponentID','Ceiling','Floor','Points']\n",
    "df.columns"
   ]
  },
  {
   "cell_type": "code",
   "execution_count": 100,
   "metadata": {},
   "outputs": [
    {
     "data": {
      "text/plain": [
       "WR    124\n",
       "RB     84\n",
       "TE     67\n",
       "QB     28\n",
       "Name: Position, dtype: int64"
      ]
     },
     "execution_count": 100,
     "metadata": {},
     "output_type": "execute_result"
    }
   ],
   "source": [
    "#Get frequency counts by Position\n",
    "df.Position.value_counts()"
   ]
  },
  {
   "cell_type": "code",
   "execution_count": 101,
   "metadata": {},
   "outputs": [
    {
     "data": {
      "text/html": [
       "<div>\n",
       "<style scoped>\n",
       "    .dataframe tbody tr th:only-of-type {\n",
       "        vertical-align: middle;\n",
       "    }\n",
       "\n",
       "    .dataframe tbody tr th {\n",
       "        vertical-align: top;\n",
       "    }\n",
       "\n",
       "    .dataframe thead th {\n",
       "        text-align: right;\n",
       "    }\n",
       "</style>\n",
       "<table border=\"1\" class=\"dataframe\">\n",
       "  <thead>\n",
       "    <tr style=\"text-align: right;\">\n",
       "      <th></th>\n",
       "      <th>DkSalary</th>\n",
       "      <th>Ceiling</th>\n",
       "      <th>Floor</th>\n",
       "      <th>Points</th>\n",
       "    </tr>\n",
       "  </thead>\n",
       "  <tbody>\n",
       "    <tr>\n",
       "      <th>count</th>\n",
       "      <td>303.000000</td>\n",
       "      <td>303.000000</td>\n",
       "      <td>303.000000</td>\n",
       "      <td>303.000000</td>\n",
       "    </tr>\n",
       "    <tr>\n",
       "      <th>mean</th>\n",
       "      <td>4150.165017</td>\n",
       "      <td>16.294768</td>\n",
       "      <td>6.709648</td>\n",
       "      <td>8.870957</td>\n",
       "    </tr>\n",
       "    <tr>\n",
       "      <th>std</th>\n",
       "      <td>1536.010886</td>\n",
       "      <td>10.786406</td>\n",
       "      <td>3.774750</td>\n",
       "      <td>6.391902</td>\n",
       "    </tr>\n",
       "    <tr>\n",
       "      <th>min</th>\n",
       "      <td>2500.000000</td>\n",
       "      <td>0.740000</td>\n",
       "      <td>0.567000</td>\n",
       "      <td>0.630000</td>\n",
       "    </tr>\n",
       "    <tr>\n",
       "      <th>25%</th>\n",
       "      <td>3000.000000</td>\n",
       "      <td>7.036480</td>\n",
       "      <td>3.520000</td>\n",
       "      <td>3.520000</td>\n",
       "    </tr>\n",
       "    <tr>\n",
       "      <th>50%</th>\n",
       "      <td>3600.000000</td>\n",
       "      <td>15.972010</td>\n",
       "      <td>7.167030</td>\n",
       "      <td>7.990000</td>\n",
       "    </tr>\n",
       "    <tr>\n",
       "      <th>75%</th>\n",
       "      <td>5000.000000</td>\n",
       "      <td>24.337825</td>\n",
       "      <td>9.362645</td>\n",
       "      <td>12.680000</td>\n",
       "    </tr>\n",
       "    <tr>\n",
       "      <th>max</th>\n",
       "      <td>9400.000000</td>\n",
       "      <td>45.847620</td>\n",
       "      <td>17.073900</td>\n",
       "      <td>27.990000</td>\n",
       "    </tr>\n",
       "  </tbody>\n",
       "</table>\n",
       "</div>"
      ],
      "text/plain": [
       "          DkSalary     Ceiling       Floor      Points\n",
       "count   303.000000  303.000000  303.000000  303.000000\n",
       "mean   4150.165017   16.294768    6.709648    8.870957\n",
       "std    1536.010886   10.786406    3.774750    6.391902\n",
       "min    2500.000000    0.740000    0.567000    0.630000\n",
       "25%    3000.000000    7.036480    3.520000    3.520000\n",
       "50%    3600.000000   15.972010    7.167030    7.990000\n",
       "75%    5000.000000   24.337825    9.362645   12.680000\n",
       "max    9400.000000   45.847620   17.073900   27.990000"
      ]
     },
     "execution_count": 101,
     "metadata": {},
     "output_type": "execute_result"
    }
   ],
   "source": [
    "# Lastly we calculate our descriptive statistics\n",
    "df.describe()"
   ]
  },
  {
   "cell_type": "markdown",
   "metadata": {},
   "source": [
    "This gives us a lot of great information. Here are my initial reactions to the data:\n",
    "\n",
    " - There is a huge range in salaries, starting at 2.5k and ending at 9.4K\n",
    " - The upper quartile indicates that 75% of players are projected to score less than 12.7 points this week\n",
    " - I'd like to understand if there is any correlation between salary and points. More specificlly I wouldlike to understand if an increase in salary correlates to an increase in projected points."
   ]
  },
  {
   "cell_type": "markdown",
   "metadata": {},
   "source": [
    "### Visualizing the dataset\n",
    "\n",
    "Question 1: **Is there a large difference in projected points across positions?**"
   ]
  },
  {
   "cell_type": "code",
   "execution_count": 79,
   "metadata": {},
   "outputs": [
    {
     "data": {
      "text/plain": [
       "Text(0.5,1,'Projected Points by Position')"
      ]
     },
     "execution_count": 79,
     "metadata": {},
     "output_type": "execute_result"
    },
    {
     "data": {
      "image/png": "[encoded data removed]",
      "text/plain": [
       "<Figure size 432x288 with 1 Axes>"
      ]
     },
     "metadata": {},
     "output_type": "display_data"
    }
   ],
   "source": [
    "#Create a boxplot to compare Points across the different values for position\n",
    "sns.set()\n",
    "sns.boxplot(x='Position',y='Points',data=df)\n",
    "plt.suptitle(\"\") #Remove the title that is autogenerated by Pandas\n",
    "plt.title('Projected Points by Position') #Add a title"
   ]
  },
  {
   "cell_type": "markdown",
   "metadata": {},
   "source": [
    "Looks like the projected points among running backs are more variable than the positions. Quarterbacks have the smallest spread, ranging between 14 and 26 points. About 75% of the projected points for Tight Ends fall 9 points."
   ]
  },
  {
   "cell_type": "markdown",
   "metadata": {},
   "source": [
    "Question 2: **Is there a correlation between salary and points?**"
   ]
  },
  {
   "cell_type": "code",
   "execution_count": 102,
   "metadata": {},
   "outputs": [
    {
     "data": {
      "text/plain": [
       "<seaborn.axisgrid.FacetGrid at 0xc46fb00>"
      ]
     },
     "execution_count": 102,
     "metadata": {},
     "output_type": "execute_result"
    },
    {
     "data": {
      "image/png": "[encoded data removed]",
      "text/plain": [
       "<Figure size 864x216 with 4 Axes>"
      ]
     },
     "metadata": {},
     "output_type": "display_data"
    }
   ],
   "source": [
    "#Create a scatterplot to visualize the relationship between salary and points for each position\n",
    "g = sns.FacetGrid(df,col='Position')\n",
    "g.map(plt.scatter,'DkSalary',\"Points\")"
   ]
  },
  {
   "cell_type": "markdown",
   "metadata": {},
   "source": [
    "There is certainly a strong positive relationship between Salary and Points. As the Salary increases the Points increase as well. In order to quantify the strength of the linear relationship we would have to compute a correlation analysis which goes beyond the scope of this project."
   ]
  },
  {
   "cell_type": "markdown",
   "metadata": {},
   "source": [
    "## 1c. Cleaning the dataset"
   ]
  },
  {
   "cell_type": "markdown",
   "metadata": {},
   "source": [
    "Overall the dataset is pretty clean. The data types are accurate, we're not missing any data, and we now have column headers that identify all of our variables. We would still like to do a few things:\n",
    "\n",
    "- Add a column that stores the date that this information was collected\n",
    "- Calculate the players expected value and insert it as a new column "
   ]
  },
  {
   "cell_type": "markdown",
   "metadata": {},
   "source": [
    "### Add columns for today's date"
   ]
  },
  {
   "cell_type": "code",
   "execution_count": 103,
   "metadata": {},
   "outputs": [
    {
     "data": {
      "text/html": [
       "<div>\n",
       "<style scoped>\n",
       "    .dataframe tbody tr th:only-of-type {\n",
       "        vertical-align: middle;\n",
       "    }\n",
       "\n",
       "    .dataframe tbody tr th {\n",
       "        vertical-align: top;\n",
       "    }\n",
       "\n",
       "    .dataframe thead th {\n",
       "        text-align: right;\n",
       "    }\n",
       "</style>\n",
       "<table border=\"1\" class=\"dataframe\">\n",
       "  <thead>\n",
       "    <tr style=\"text-align: right;\">\n",
       "      <th></th>\n",
       "      <th>PlayerName</th>\n",
       "      <th>DkSalary</th>\n",
       "      <th>TeamID</th>\n",
       "      <th>Position</th>\n",
       "      <th>OpponentID</th>\n",
       "      <th>Ceiling</th>\n",
       "      <th>Floor</th>\n",
       "      <th>Points</th>\n",
       "      <th>DateAdded</th>\n",
       "    </tr>\n",
       "  </thead>\n",
       "  <tbody>\n",
       "    <tr>\n",
       "      <th>0</th>\n",
       "      <td>Baker Mayfield</td>\n",
       "      <td>5400</td>\n",
       "      <td>CLE</td>\n",
       "      <td>QB</td>\n",
       "      <td>ATL</td>\n",
       "      <td>30.18435</td>\n",
       "      <td>9.81225</td>\n",
       "      <td>18.69</td>\n",
       "      <td>11/12/2018</td>\n",
       "    </tr>\n",
       "    <tr>\n",
       "      <th>1</th>\n",
       "      <td>Philip Rivers</td>\n",
       "      <td>6000</td>\n",
       "      <td>LAC</td>\n",
       "      <td>QB</td>\n",
       "      <td>OAK</td>\n",
       "      <td>35.52660</td>\n",
       "      <td>12.41238</td>\n",
       "      <td>21.93</td>\n",
       "      <td>11/12/2018</td>\n",
       "    </tr>\n",
       "    <tr>\n",
       "      <th>2</th>\n",
       "      <td>Matt Ryan</td>\n",
       "      <td>6100</td>\n",
       "      <td>ATL</td>\n",
       "      <td>QB</td>\n",
       "      <td>CLE</td>\n",
       "      <td>31.57110</td>\n",
       "      <td>9.12054</td>\n",
       "      <td>21.26</td>\n",
       "      <td>11/12/2018</td>\n",
       "    </tr>\n",
       "    <tr>\n",
       "      <th>3</th>\n",
       "      <td>Marcus Mariota</td>\n",
       "      <td>5500</td>\n",
       "      <td>TEN</td>\n",
       "      <td>QB</td>\n",
       "      <td>NEP</td>\n",
       "      <td>31.16288</td>\n",
       "      <td>9.89184</td>\n",
       "      <td>17.92</td>\n",
       "      <td>11/12/2018</td>\n",
       "    </tr>\n",
       "    <tr>\n",
       "      <th>4</th>\n",
       "      <td>Andy Dalton</td>\n",
       "      <td>5000</td>\n",
       "      <td>CIN</td>\n",
       "      <td>QB</td>\n",
       "      <td>NOS</td>\n",
       "      <td>30.70400</td>\n",
       "      <td>9.99799</td>\n",
       "      <td>19.19</td>\n",
       "      <td>11/12/2018</td>\n",
       "    </tr>\n",
       "  </tbody>\n",
       "</table>\n",
       "</div>"
      ],
      "text/plain": [
       "       PlayerName  DkSalary TeamID Position OpponentID   Ceiling     Floor  \\\n",
       "0  Baker Mayfield      5400    CLE       QB        ATL  30.18435   9.81225   \n",
       "1   Philip Rivers      6000    LAC       QB        OAK  35.52660  12.41238   \n",
       "2       Matt Ryan      6100    ATL       QB        CLE  31.57110   9.12054   \n",
       "3  Marcus Mariota      5500    TEN       QB        NEP  31.16288   9.89184   \n",
       "4     Andy Dalton      5000    CIN       QB        NOS  30.70400   9.99799   \n",
       "\n",
       "   Points   DateAdded  \n",
       "0   18.69  11/12/2018  \n",
       "1   21.93  11/12/2018  \n",
       "2   21.26  11/12/2018  \n",
       "3   17.92  11/12/2018  \n",
       "4   19.19  11/12/2018  "
      ]
     },
     "execution_count": 103,
     "metadata": {},
     "output_type": "execute_result"
    }
   ],
   "source": [
    "df['DateAdded']=pd.to_datetime('today').strftime(\"%m/%d/%Y\")\n",
    "df.head()"
   ]
  },
  {
   "cell_type": "markdown",
   "metadata": {},
   "source": [
    "### Add column that shows the players value based on their projected points\n",
    "\n",
    "We're going to compute the H-Value for each player which is described as the following:\n",
    "\n",
    "> H-Value combines overall value (points per dollar) and projected points in a novel formula that provides an accurate ranking of the top overall plays each week. Simply sorting the players by H-Value provides an easy ranking system, and the player with highest H-Value is the single strongest play of the week.\n",
    "    -*Dan Hindrey*, [FootballGuys](https://subscribers.footballguys.com/apps/article.php?article=Draftkings_Book_H_Value_2015)"
   ]
  },
  {
   "cell_type": "markdown",
   "metadata": {},
   "source": [
    "![Value](http://latex.codecogs.com/gif.latex?H_Value%20%3D%20%5Cfrac%7BPoints%20*%20%5Csqrt%7B3%7D%7D%7BSalary%7D%20*%202000)"
   ]
  },
  {
   "cell_type": "code",
   "execution_count": 104,
   "metadata": {},
   "outputs": [
    {
     "data": {
      "text/html": [
       "<div>\n",
       "<style scoped>\n",
       "    .dataframe tbody tr th:only-of-type {\n",
       "        vertical-align: middle;\n",
       "    }\n",
       "\n",
       "    .dataframe tbody tr th {\n",
       "        vertical-align: top;\n",
       "    }\n",
       "\n",
       "    .dataframe thead th {\n",
       "        text-align: right;\n",
       "    }\n",
       "</style>\n",
       "<table border=\"1\" class=\"dataframe\">\n",
       "  <thead>\n",
       "    <tr style=\"text-align: right;\">\n",
       "      <th></th>\n",
       "      <th>PlayerName</th>\n",
       "      <th>DkSalary</th>\n",
       "      <th>TeamID</th>\n",
       "      <th>Position</th>\n",
       "      <th>OpponentID</th>\n",
       "      <th>Ceiling</th>\n",
       "      <th>Floor</th>\n",
       "      <th>Points</th>\n",
       "      <th>DateAdded</th>\n",
       "      <th>H_Value</th>\n",
       "    </tr>\n",
       "  </thead>\n",
       "  <tbody>\n",
       "    <tr>\n",
       "      <th>0</th>\n",
       "      <td>Baker Mayfield</td>\n",
       "      <td>5400</td>\n",
       "      <td>CLE</td>\n",
       "      <td>QB</td>\n",
       "      <td>ATL</td>\n",
       "      <td>30.18435</td>\n",
       "      <td>9.81225</td>\n",
       "      <td>18.69</td>\n",
       "      <td>11/12/2018</td>\n",
       "      <td>11.989641</td>\n",
       "    </tr>\n",
       "    <tr>\n",
       "      <th>1</th>\n",
       "      <td>Philip Rivers</td>\n",
       "      <td>6000</td>\n",
       "      <td>LAC</td>\n",
       "      <td>QB</td>\n",
       "      <td>OAK</td>\n",
       "      <td>35.52660</td>\n",
       "      <td>12.41238</td>\n",
       "      <td>21.93</td>\n",
       "      <td>11/12/2018</td>\n",
       "      <td>12.661291</td>\n",
       "    </tr>\n",
       "    <tr>\n",
       "      <th>2</th>\n",
       "      <td>Matt Ryan</td>\n",
       "      <td>6100</td>\n",
       "      <td>ATL</td>\n",
       "      <td>QB</td>\n",
       "      <td>CLE</td>\n",
       "      <td>31.57110</td>\n",
       "      <td>9.12054</td>\n",
       "      <td>21.26</td>\n",
       "      <td>11/12/2018</td>\n",
       "      <td>12.073246</td>\n",
       "    </tr>\n",
       "    <tr>\n",
       "      <th>3</th>\n",
       "      <td>Marcus Mariota</td>\n",
       "      <td>5500</td>\n",
       "      <td>TEN</td>\n",
       "      <td>QB</td>\n",
       "      <td>NEP</td>\n",
       "      <td>31.16288</td>\n",
       "      <td>9.89184</td>\n",
       "      <td>17.92</td>\n",
       "      <td>11/12/2018</td>\n",
       "      <td>11.286673</td>\n",
       "    </tr>\n",
       "    <tr>\n",
       "      <th>4</th>\n",
       "      <td>Andy Dalton</td>\n",
       "      <td>5000</td>\n",
       "      <td>CIN</td>\n",
       "      <td>QB</td>\n",
       "      <td>NOS</td>\n",
       "      <td>30.70400</td>\n",
       "      <td>9.99799</td>\n",
       "      <td>19.19</td>\n",
       "      <td>11/12/2018</td>\n",
       "      <td>13.295222</td>\n",
       "    </tr>\n",
       "  </tbody>\n",
       "</table>\n",
       "</div>"
      ],
      "text/plain": [
       "       PlayerName  DkSalary TeamID Position OpponentID   Ceiling     Floor  \\\n",
       "0  Baker Mayfield      5400    CLE       QB        ATL  30.18435   9.81225   \n",
       "1   Philip Rivers      6000    LAC       QB        OAK  35.52660  12.41238   \n",
       "2       Matt Ryan      6100    ATL       QB        CLE  31.57110   9.12054   \n",
       "3  Marcus Mariota      5500    TEN       QB        NEP  31.16288   9.89184   \n",
       "4     Andy Dalton      5000    CIN       QB        NOS  30.70400   9.99799   \n",
       "\n",
       "   Points   DateAdded    H_Value  \n",
       "0   18.69  11/12/2018  11.989641  \n",
       "1   21.93  11/12/2018  12.661291  \n",
       "2   21.26  11/12/2018  12.073246  \n",
       "3   17.92  11/12/2018  11.286673  \n",
       "4   19.19  11/12/2018  13.295222  "
      ]
     },
     "execution_count": 104,
     "metadata": {},
     "output_type": "execute_result"
    }
   ],
   "source": [
    "#Add new column that calculates a players H_Value and print the first 5 rows\n",
    "\n",
    "df['H_Value'] = df.Points * np.sqrt(3) / df.DkSalary * 2000\n",
    "df.head()"
   ]
  },
  {
   "cell_type": "markdown",
   "metadata": {},
   "source": [
    "Let's sort our dataframe to see who the highest valued players are for this week"
   ]
  },
  {
   "cell_type": "code",
   "execution_count": 105,
   "metadata": {},
   "outputs": [
    {
     "data": {
      "text/html": [
       "<div>\n",
       "<style scoped>\n",
       "    .dataframe tbody tr th:only-of-type {\n",
       "        vertical-align: middle;\n",
       "    }\n",
       "\n",
       "    .dataframe tbody tr th {\n",
       "        vertical-align: top;\n",
       "    }\n",
       "\n",
       "    .dataframe thead th {\n",
       "        text-align: right;\n",
       "    }\n",
       "</style>\n",
       "<table border=\"1\" class=\"dataframe\">\n",
       "  <thead>\n",
       "    <tr style=\"text-align: right;\">\n",
       "      <th></th>\n",
       "      <th>PlayerName</th>\n",
       "      <th>DkSalary</th>\n",
       "      <th>TeamID</th>\n",
       "      <th>Position</th>\n",
       "      <th>OpponentID</th>\n",
       "      <th>Ceiling</th>\n",
       "      <th>Floor</th>\n",
       "      <th>Points</th>\n",
       "      <th>DateAdded</th>\n",
       "      <th>H_Value</th>\n",
       "    </tr>\n",
       "  </thead>\n",
       "  <tbody>\n",
       "    <tr>\n",
       "      <th>23</th>\n",
       "      <td>Alex Smith</td>\n",
       "      <td>4800</td>\n",
       "      <td>WAS</td>\n",
       "      <td>QB</td>\n",
       "      <td>TBB</td>\n",
       "      <td>28.22400</td>\n",
       "      <td>7.87200</td>\n",
       "      <td>19.20</td>\n",
       "      <td>11/12/2018</td>\n",
       "      <td>13.856406</td>\n",
       "    </tr>\n",
       "    <tr>\n",
       "      <th>4</th>\n",
       "      <td>Andy Dalton</td>\n",
       "      <td>5000</td>\n",
       "      <td>CIN</td>\n",
       "      <td>QB</td>\n",
       "      <td>NOS</td>\n",
       "      <td>30.70400</td>\n",
       "      <td>9.99799</td>\n",
       "      <td>19.19</td>\n",
       "      <td>11/12/2018</td>\n",
       "      <td>13.295222</td>\n",
       "    </tr>\n",
       "    <tr>\n",
       "      <th>6</th>\n",
       "      <td>Derek Carr</td>\n",
       "      <td>4700</td>\n",
       "      <td>OAK</td>\n",
       "      <td>QB</td>\n",
       "      <td>LAC</td>\n",
       "      <td>27.68381</td>\n",
       "      <td>9.58485</td>\n",
       "      <td>17.27</td>\n",
       "      <td>11/12/2018</td>\n",
       "      <td>12.728731</td>\n",
       "    </tr>\n",
       "    <tr>\n",
       "      <th>1</th>\n",
       "      <td>Philip Rivers</td>\n",
       "      <td>6000</td>\n",
       "      <td>LAC</td>\n",
       "      <td>QB</td>\n",
       "      <td>OAK</td>\n",
       "      <td>35.52660</td>\n",
       "      <td>12.41238</td>\n",
       "      <td>21.93</td>\n",
       "      <td>11/12/2018</td>\n",
       "      <td>12.661291</td>\n",
       "    </tr>\n",
       "    <tr>\n",
       "      <th>14</th>\n",
       "      <td>Ryan Fitzpatrick</td>\n",
       "      <td>5600</td>\n",
       "      <td>TBB</td>\n",
       "      <td>QB</td>\n",
       "      <td>WAS</td>\n",
       "      <td>34.06800</td>\n",
       "      <td>11.64840</td>\n",
       "      <td>20.40</td>\n",
       "      <td>11/12/2018</td>\n",
       "      <td>12.619227</td>\n",
       "    </tr>\n",
       "    <tr>\n",
       "      <th>17</th>\n",
       "      <td>Aaron Rodgers</td>\n",
       "      <td>6400</td>\n",
       "      <td>GBP</td>\n",
       "      <td>QB</td>\n",
       "      <td>MIA</td>\n",
       "      <td>33.16170</td>\n",
       "      <td>10.52826</td>\n",
       "      <td>23.19</td>\n",
       "      <td>11/12/2018</td>\n",
       "      <td>12.551956</td>\n",
       "    </tr>\n",
       "    <tr>\n",
       "      <th>19</th>\n",
       "      <td>Ben Roethlisberger</td>\n",
       "      <td>5800</td>\n",
       "      <td>PIT</td>\n",
       "      <td>QB</td>\n",
       "      <td>CAR</td>\n",
       "      <td>31.51368</td>\n",
       "      <td>10.06860</td>\n",
       "      <td>20.76</td>\n",
       "      <td>11/12/2018</td>\n",
       "      <td>12.399095</td>\n",
       "    </tr>\n",
       "    <tr>\n",
       "      <th>16</th>\n",
       "      <td>Patrick Mahomes</td>\n",
       "      <td>7200</td>\n",
       "      <td>KCC</td>\n",
       "      <td>QB</td>\n",
       "      <td>ARI</td>\n",
       "      <td>42.80578</td>\n",
       "      <td>15.61212</td>\n",
       "      <td>25.51</td>\n",
       "      <td>11/12/2018</td>\n",
       "      <td>12.273504</td>\n",
       "    </tr>\n",
       "    <tr>\n",
       "      <th>12</th>\n",
       "      <td>Jared Goff</td>\n",
       "      <td>6100</td>\n",
       "      <td>LAR</td>\n",
       "      <td>QB</td>\n",
       "      <td>SEA</td>\n",
       "      <td>33.14390</td>\n",
       "      <td>9.82680</td>\n",
       "      <td>21.55</td>\n",
       "      <td>11/12/2018</td>\n",
       "      <td>12.237933</td>\n",
       "    </tr>\n",
       "    <tr>\n",
       "      <th>27</th>\n",
       "      <td>Cam Newton</td>\n",
       "      <td>6200</td>\n",
       "      <td>CAR</td>\n",
       "      <td>QB</td>\n",
       "      <td>PIT</td>\n",
       "      <td>34.27922</td>\n",
       "      <td>11.80462</td>\n",
       "      <td>21.82</td>\n",
       "      <td>11/12/2018</td>\n",
       "      <td>12.191403</td>\n",
       "    </tr>\n",
       "  </tbody>\n",
       "</table>\n",
       "</div>"
      ],
      "text/plain": [
       "            PlayerName  DkSalary TeamID Position OpponentID   Ceiling  \\\n",
       "23          Alex Smith      4800    WAS       QB        TBB  28.22400   \n",
       "4          Andy Dalton      5000    CIN       QB        NOS  30.70400   \n",
       "6           Derek Carr      4700    OAK       QB        LAC  27.68381   \n",
       "1        Philip Rivers      6000    LAC       QB        OAK  35.52660   \n",
       "14    Ryan Fitzpatrick      5600    TBB       QB        WAS  34.06800   \n",
       "17       Aaron Rodgers      6400    GBP       QB        MIA  33.16170   \n",
       "19  Ben Roethlisberger      5800    PIT       QB        CAR  31.51368   \n",
       "16     Patrick Mahomes      7200    KCC       QB        ARI  42.80578   \n",
       "12          Jared Goff      6100    LAR       QB        SEA  33.14390   \n",
       "27          Cam Newton      6200    CAR       QB        PIT  34.27922   \n",
       "\n",
       "       Floor  Points   DateAdded    H_Value  \n",
       "23   7.87200   19.20  11/12/2018  13.856406  \n",
       "4    9.99799   19.19  11/12/2018  13.295222  \n",
       "6    9.58485   17.27  11/12/2018  12.728731  \n",
       "1   12.41238   21.93  11/12/2018  12.661291  \n",
       "14  11.64840   20.40  11/12/2018  12.619227  \n",
       "17  10.52826   23.19  11/12/2018  12.551956  \n",
       "19  10.06860   20.76  11/12/2018  12.399095  \n",
       "16  15.61212   25.51  11/12/2018  12.273504  \n",
       "12   9.82680   21.55  11/12/2018  12.237933  \n",
       "27  11.80462   21.82  11/12/2018  12.191403  "
      ]
     },
     "execution_count": 105,
     "metadata": {},
     "output_type": "execute_result"
    }
   ],
   "source": [
    "#Sort H_VALUE in descending order and print the Top 25 players for the week\n",
    "\n",
    "df.sort_values(by='H_Value',ascending=False).head(10)"
   ]
  },
  {
   "cell_type": "markdown",
   "metadata": {},
   "source": [
    "## 1d. Wrapping up\n",
    "\n",
    "At this point in the project we've accomplished the following:\n",
    "\n",
    " - Pulled data from the web\n",
    " - Loaded the data into a DataFrame\n",
    " - Conducted exploratory data analysis\n",
    " - Taken basic steps to clean the dataset\n",
    "\n",
    "The last step to export the data as a .csv file. In future projects i'll demonstrate how to load a DataFrame directly into an existing database table."
   ]
  },
  {
   "cell_type": "code",
   "execution_count": 111,
   "metadata": {},
   "outputs": [],
   "source": [
    "#Export DataFrame to a .csv file\n",
    "df.to_csv(file_name + timestr + '.csv')"
   ]
  }
 ],
 "metadata": {
  "kernelspec": {
   "display_name": "Python 3",
   "language": "python",
   "name": "python3"
  },
  "language_info": {
   "codemirror_mode": {
    "name": "ipython",
    "version": 3
   },
   "file_extension": ".py",
   "mimetype": "text/x-python",
   "name": "python",
   "nbconvert_exporter": "python",
   "pygments_lexer": "ipython3",
   "version": "3.6.5"
  }
 },
 "nbformat": 4,
 "nbformat_minor": 2
}
