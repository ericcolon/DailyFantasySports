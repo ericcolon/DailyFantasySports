{
 "cells": [
  {
   "cell_type": "markdown",
   "metadata": {},
   "source": [
    "# Part 1: How to get data on player projections\n",
    "___________\n",
    "\n",
    "### Overview\n",
    "What makes [daily fantasy sports (DFS)](https://en.wikipedia.org/wiki/Daily_fantasy_sports) so unique in comparison to traditional fantasy sports is that you can (1) play every single day, and effectively, see your results every day and (2) there is room for mistakes, which makes DFS a better option for novice players. In order to construct better NFL lineups every week, I needed data to make better decisions. **In this notebook**, I'm going to pull player projection data from [Rotogrinders](http://rotogrinders.com/projected-stats/nfl-flex?site=draftkings). The website offers a subscription service (as of this writing, acccess to all DraftKings content is $29.99/month) where they provide premium tools and expert advice to help build DFS lineups. I'm only interested in their projection data, and as a non-subscriber I still have access to it.\n",
    "\n",
    "The site offers weekly projections for players across 5 different DFS sites. I only play on [DraftKings](https://www.draftkings.com/lobby#/featured) and wanted data on every position:\n",
    "\n",
    "- QB\n",
    "- RB\n",
    "- WR\n",
    "- TE\n",
    "- Flex\n",
    "- Defense\n",
    "- Kicker\n",
    "\n",
    "I'll start by loading data into the notebook, and will be using pandas DataFrames, NumPy, and visualization libraries matplotlib and seaborn."
   ]
  },
  {
   "cell_type": "markdown",
   "metadata": {},
   "source": [
    "## 2. Getting the data\n",
    "\n",
    "Looking at [their site](https://rotogrinders.com/projected-stats/nfl-flex?site=draftkings) you, can see they have a nice table containing data about each player and their projected output for the upcoming week. You can see the information for non-subscribers is hidden, but that still leaves me with the data I'm after: **projected points**.\n",
    "\n",
    "You can see they offer this data as a flat file.\n",
    "\n",
    "If you click on **QB** and then right-click on the *Download as CSV* button, we can inspect the URL:\n",
    "\n",
    "`https://rotogrinders.com/projected-stats/nfl-qb.csv?site=draftkings`\n",
    "\n",
    "I did the same thing with the other positions to verify that the links were constructed the same way. The only difference is that the link changes for each position you click. Now we can grab the data for each position and combine them into a single list."
   ]
  },
  {
   "cell_type": "code",
   "execution_count": 1,
   "metadata": {},
   "outputs": [
    {
     "data": {
      "text/plain": [
       "pandas.core.frame.DataFrame"
      ]
     },
     "execution_count": 1,
     "metadata": {},
     "output_type": "execute_result"
    }
   ],
   "source": [
    "#Import necessary libraries\n",
    "import pandas as pd\n",
    "import time\n",
    "import numpy as np\n",
    "import matplotlib.pyplot as plt\n",
    "%matplotlib inline\n",
    "import seaborn as sns\n",
    "\n",
    "#We're going to export this to a new .csv file later: file_name\n",
    "file_name = 'player_projections_'\n",
    "timestr = time.strftime(\"%d%m%Y\")\n",
    "\n",
    "#Create a list that holds every URL we want data for: url\n",
    "url = ['https://rotogrinders.com/projected-stats/nfl-qb.csv?site=draftkings',\\\n",
    "      'https://rotogrinders.com/projected-stats/nfl-rb.csv?site=draftkings',\\\n",
    "      'https://rotogrinders.com/projected-stats/nfl-wr.csv?site=draftkings',\\\n",
    "      'https://rotogrinders.com/projected-stats/nfl-te.csv?site=draftkings']\n",
    "\n",
    "#Loop through each url, read each .csv file into a list, append all of the lists together and\n",
    "#concatenate the lists into a single DataFrame\n",
    "\n",
    "df_list = [] #Initiate an emtpy list to hold our files: df_list\n",
    "\n",
    "#Loop through each link\n",
    "for data in url:\n",
    "    df_list.append(pd.read_csv(data,header=None))\n",
    "\n",
    "df = pd.concat(df_list,sort=False) #Concatenate our lists into a single DataFrame that we will use:df\n",
    "type(df)\n",
    "\n"
   ]
  },
  {
   "cell_type": "markdown",
   "metadata": {},
   "source": [
    "## 3. Exploratory data analysis\n",
    "\n",
    "Now that the data has been loaded into a single DataFrame I'll do a sanity check. I'll check for missing values, confirm data types and compute some descriptive statistics that will help us spot any outliers."
   ]
  },
  {
   "cell_type": "code",
   "execution_count": 16,
   "metadata": {
    "scrolled": true
   },
   "outputs": [
    {
     "data": {
      "text/html": [
       "<div>\n",
       "<style scoped>\n",
       "    .dataframe tbody tr th:only-of-type {\n",
       "        vertical-align: middle;\n",
       "    }\n",
       "\n",
       "    .dataframe tbody tr th {\n",
       "        vertical-align: top;\n",
       "    }\n",
       "\n",
       "    .dataframe thead th {\n",
       "        text-align: right;\n",
       "    }\n",
       "</style>\n",
       "<table border=\"1\" class=\"dataframe\">\n",
       "  <thead>\n",
       "    <tr style=\"text-align: right;\">\n",
       "      <th></th>\n",
       "      <th>0</th>\n",
       "      <th>1</th>\n",
       "      <th>2</th>\n",
       "      <th>3</th>\n",
       "      <th>4</th>\n",
       "      <th>5</th>\n",
       "      <th>6</th>\n",
       "      <th>7</th>\n",
       "    </tr>\n",
       "  </thead>\n",
       "  <tbody>\n",
       "    <tr>\n",
       "      <th>0</th>\n",
       "      <td>Andrew Luck</td>\n",
       "      <td>5900</td>\n",
       "      <td>IND</td>\n",
       "      <td>QB</td>\n",
       "      <td>TEN</td>\n",
       "      <td>30.96756</td>\n",
       "      <td>10.22112</td>\n",
       "      <td>20.28</td>\n",
       "    </tr>\n",
       "    <tr>\n",
       "      <th>1</th>\n",
       "      <td>Case Keenum</td>\n",
       "      <td>4800</td>\n",
       "      <td>DEN</td>\n",
       "      <td>QB</td>\n",
       "      <td>LAC</td>\n",
       "      <td>28.97450</td>\n",
       "      <td>9.78540</td>\n",
       "      <td>17.35</td>\n",
       "    </tr>\n",
       "    <tr>\n",
       "      <th>2</th>\n",
       "      <td>Marcus Mariota</td>\n",
       "      <td>5500</td>\n",
       "      <td>TEN</td>\n",
       "      <td>QB</td>\n",
       "      <td>IND</td>\n",
       "      <td>29.98125</td>\n",
       "      <td>9.20655</td>\n",
       "      <td>18.45</td>\n",
       "    </tr>\n",
       "    <tr>\n",
       "      <th>3</th>\n",
       "      <td>Matthew Stafford</td>\n",
       "      <td>5400</td>\n",
       "      <td>DET</td>\n",
       "      <td>QB</td>\n",
       "      <td>CAR</td>\n",
       "      <td>28.99884</td>\n",
       "      <td>8.05737</td>\n",
       "      <td>19.23</td>\n",
       "    </tr>\n",
       "    <tr>\n",
       "      <th>4</th>\n",
       "      <td>Cam Newton</td>\n",
       "      <td>6200</td>\n",
       "      <td>CAR</td>\n",
       "      <td>QB</td>\n",
       "      <td>DET</td>\n",
       "      <td>34.21845</td>\n",
       "      <td>11.17665</td>\n",
       "      <td>22.95</td>\n",
       "    </tr>\n",
       "    <tr>\n",
       "      <th>5</th>\n",
       "      <td>Philip Rivers</td>\n",
       "      <td>6000</td>\n",
       "      <td>LAC</td>\n",
       "      <td>QB</td>\n",
       "      <td>DEN</td>\n",
       "      <td>32.15484</td>\n",
       "      <td>11.24496</td>\n",
       "      <td>20.52</td>\n",
       "    </tr>\n",
       "    <tr>\n",
       "      <th>6</th>\n",
       "      <td>Derek Carr</td>\n",
       "      <td>4700</td>\n",
       "      <td>OAK</td>\n",
       "      <td>QB</td>\n",
       "      <td>ARI</td>\n",
       "      <td>31.27436</td>\n",
       "      <td>10.32528</td>\n",
       "      <td>17.56</td>\n",
       "    </tr>\n",
       "    <tr>\n",
       "      <th>7</th>\n",
       "      <td>Patrick Mahomes</td>\n",
       "      <td>7200</td>\n",
       "      <td>KCC</td>\n",
       "      <td>QB</td>\n",
       "      <td>LAR</td>\n",
       "      <td>42.51744</td>\n",
       "      <td>15.39792</td>\n",
       "      <td>26.64</td>\n",
       "    </tr>\n",
       "    <tr>\n",
       "      <th>8</th>\n",
       "      <td>Jared Goff</td>\n",
       "      <td>6100</td>\n",
       "      <td>LAR</td>\n",
       "      <td>QB</td>\n",
       "      <td>KCC</td>\n",
       "      <td>35.52356</td>\n",
       "      <td>11.58766</td>\n",
       "      <td>22.37</td>\n",
       "    </tr>\n",
       "    <tr>\n",
       "      <th>9</th>\n",
       "      <td>Blake Bortles</td>\n",
       "      <td>5100</td>\n",
       "      <td>JAC</td>\n",
       "      <td>QB</td>\n",
       "      <td>PIT</td>\n",
       "      <td>29.38614</td>\n",
       "      <td>10.19249</td>\n",
       "      <td>18.91</td>\n",
       "    </tr>\n",
       "  </tbody>\n",
       "</table>\n",
       "</div>"
      ],
      "text/plain": [
       "                  0     1    2   3    4         5         6      7\n",
       "0       Andrew Luck  5900  IND  QB  TEN  30.96756  10.22112  20.28\n",
       "1       Case Keenum  4800  DEN  QB  LAC  28.97450   9.78540  17.35\n",
       "2    Marcus Mariota  5500  TEN  QB  IND  29.98125   9.20655  18.45\n",
       "3  Matthew Stafford  5400  DET  QB  CAR  28.99884   8.05737  19.23\n",
       "4        Cam Newton  6200  CAR  QB  DET  34.21845  11.17665  22.95\n",
       "5     Philip Rivers  6000  LAC  QB  DEN  32.15484  11.24496  20.52\n",
       "6        Derek Carr  4700  OAK  QB  ARI  31.27436  10.32528  17.56\n",
       "7   Patrick Mahomes  7200  KCC  QB  LAR  42.51744  15.39792  26.64\n",
       "8        Jared Goff  6100  LAR  QB  KCC  35.52356  11.58766  22.37\n",
       "9     Blake Bortles  5100  JAC  QB  PIT  29.38614  10.19249  18.91"
      ]
     },
     "execution_count": 16,
     "metadata": {},
     "output_type": "execute_result"
    }
   ],
   "source": [
    "#Inspect the first 10 rows\n",
    "df.head(10)"
   ]
  },
  {
   "cell_type": "code",
   "execution_count": 2,
   "metadata": {
    "scrolled": true
   },
   "outputs": [
    {
     "name": "stdout",
     "output_type": "stream",
     "text": [
      "<class 'pandas.core.frame.DataFrame'>\n",
      "Int64Index: 291 entries, 0 to 62\n",
      "Data columns (total 8 columns):\n",
      "0    291 non-null object\n",
      "1    291 non-null int64\n",
      "2    291 non-null object\n",
      "3    291 non-null object\n",
      "4    291 non-null object\n",
      "5    291 non-null float64\n",
      "6    291 non-null float64\n",
      "7    291 non-null float64\n",
      "dtypes: float64(3), int64(1), object(4)\n",
      "memory usage: 20.5+ KB\n"
     ]
    }
   ],
   "source": [
    "#Check the shape, data types, and look for any missing values for each variable\n",
    "\n",
    "df.info()"
   ]
  },
  {
   "cell_type": "markdown",
   "metadata": {},
   "source": [
    "This looks to have loaded everything. Each observation in the dataset corresponds to projection data for a single player for a single game that week. The dataset is made up of 291 rows and 8 columns. The data types are correct; player names, their position, current team and opponent are all loaded as strings while their salary and projected ceiling, floor, and total points were loaded as numeric data.\n",
    "\n",
    "I'll add column headers and compute a frequency count by position to see how many unique projections there are for each position."
   ]
  },
  {
   "cell_type": "code",
   "execution_count": 3,
   "metadata": {},
   "outputs": [
    {
     "data": {
      "text/plain": [
       "Index(['PlayerName', 'DkSalary', 'TeamID', 'Position', 'OpponentID', 'Ceiling',\n",
       "       'Floor', 'Points'],\n",
       "      dtype='object')"
      ]
     },
     "execution_count": 3,
     "metadata": {},
     "output_type": "execute_result"
    }
   ],
   "source": [
    "#Add column headers\n",
    "df.columns = ['PlayerName','DkSalary','TeamID','Position','OpponentID','Ceiling','Floor','Points']\n",
    "df.columns"
   ]
  },
  {
   "cell_type": "code",
   "execution_count": 7,
   "metadata": {},
   "outputs": [
    {
     "name": "stdout",
     "output_type": "stream",
     "text": [
      "\n",
      " Frequency Counts by Position: DraftKings Player Projections - NFL Week 10\n"
     ]
    },
    {
     "data": {
      "text/plain": [
       "WR    121\n",
       "RB     81\n",
       "TE     63\n",
       "QB     26\n",
       "Name: Position, dtype: int64"
      ]
     },
     "execution_count": 7,
     "metadata": {},
     "output_type": "execute_result"
    }
   ],
   "source": [
    "#Get frequency counts by Position\n",
    "print(\"\\n Frequency Counts by Position: DraftKings Player Projections - NFL Week 10\")\n",
    "df.Position.value_counts()"
   ]
  },
  {
   "cell_type": "code",
   "execution_count": 8,
   "metadata": {},
   "outputs": [
    {
     "data": {
      "text/html": [
       "<div>\n",
       "<style scoped>\n",
       "    .dataframe tbody tr th:only-of-type {\n",
       "        vertical-align: middle;\n",
       "    }\n",
       "\n",
       "    .dataframe tbody tr th {\n",
       "        vertical-align: top;\n",
       "    }\n",
       "\n",
       "    .dataframe thead th {\n",
       "        text-align: right;\n",
       "    }\n",
       "</style>\n",
       "<table border=\"1\" class=\"dataframe\">\n",
       "  <thead>\n",
       "    <tr style=\"text-align: right;\">\n",
       "      <th></th>\n",
       "      <th>DkSalary</th>\n",
       "      <th>Ceiling</th>\n",
       "      <th>Floor</th>\n",
       "      <th>Points</th>\n",
       "    </tr>\n",
       "  </thead>\n",
       "  <tbody>\n",
       "    <tr>\n",
       "      <th>count</th>\n",
       "      <td>291.000000</td>\n",
       "      <td>291.000000</td>\n",
       "      <td>291.000000</td>\n",
       "      <td>291.000000</td>\n",
       "    </tr>\n",
       "    <tr>\n",
       "      <th>mean</th>\n",
       "      <td>4194.158076</td>\n",
       "      <td>16.861310</td>\n",
       "      <td>6.872456</td>\n",
       "      <td>9.120756</td>\n",
       "    </tr>\n",
       "    <tr>\n",
       "      <th>std</th>\n",
       "      <td>1577.864192</td>\n",
       "      <td>11.308974</td>\n",
       "      <td>3.951825</td>\n",
       "      <td>6.657012</td>\n",
       "    </tr>\n",
       "    <tr>\n",
       "      <th>min</th>\n",
       "      <td>2500.000000</td>\n",
       "      <td>0.996600</td>\n",
       "      <td>0.530000</td>\n",
       "      <td>0.530000</td>\n",
       "    </tr>\n",
       "    <tr>\n",
       "      <th>25%</th>\n",
       "      <td>3000.000000</td>\n",
       "      <td>6.836580</td>\n",
       "      <td>3.420000</td>\n",
       "      <td>3.465000</td>\n",
       "    </tr>\n",
       "    <tr>\n",
       "      <th>50%</th>\n",
       "      <td>3700.000000</td>\n",
       "      <td>15.792100</td>\n",
       "      <td>6.980310</td>\n",
       "      <td>7.900000</td>\n",
       "    </tr>\n",
       "    <tr>\n",
       "      <th>75%</th>\n",
       "      <td>5100.000000</td>\n",
       "      <td>25.296065</td>\n",
       "      <td>9.772700</td>\n",
       "      <td>12.935000</td>\n",
       "    </tr>\n",
       "    <tr>\n",
       "      <th>max</th>\n",
       "      <td>9400.000000</td>\n",
       "      <td>45.600780</td>\n",
       "      <td>16.872840</td>\n",
       "      <td>27.570000</td>\n",
       "    </tr>\n",
       "  </tbody>\n",
       "</table>\n",
       "</div>"
      ],
      "text/plain": [
       "          DkSalary     Ceiling       Floor      Points\n",
       "count   291.000000  291.000000  291.000000  291.000000\n",
       "mean   4194.158076   16.861310    6.872456    9.120756\n",
       "std    1577.864192   11.308974    3.951825    6.657012\n",
       "min    2500.000000    0.996600    0.530000    0.530000\n",
       "25%    3000.000000    6.836580    3.420000    3.465000\n",
       "50%    3700.000000   15.792100    6.980310    7.900000\n",
       "75%    5100.000000   25.296065    9.772700   12.935000\n",
       "max    9400.000000   45.600780   16.872840   27.570000"
      ]
     },
     "execution_count": 8,
     "metadata": {},
     "output_type": "execute_result"
    }
   ],
   "source": [
    "#Compute descriptive statistics\n",
    "df.describe()"
   ]
  },
  {
   "cell_type": "markdown",
   "metadata": {},
   "source": [
    "This provides a lot of useful information. Here are my initial reactions to the data:\n",
    "\n",
    " - There is a huge range in salaries, starting at 2.5k and ending at 9.4K\n",
    " - The upper quartile indicates that 75% of players are projected to score less than 13 points this week\n",
    " - Is there any correlation between salary and points? More specifically I would like to understand if an increase in salary correlates to an increase in points.\n",
    " - Is there a difference in projection points across positions?"
   ]
  },
  {
   "cell_type": "markdown",
   "metadata": {},
   "source": [
    "### Visualizing the dataset\n",
    "\n",
    "Question 1: **Is there a difference in projected points across positions?**"
   ]
  },
  {
   "cell_type": "code",
   "execution_count": 10,
   "metadata": {},
   "outputs": [
    {
     "data": {
      "text/plain": [
       "Text(0.5,0.98,'')"
      ]
     },
     "execution_count": 10,
     "metadata": {},
     "output_type": "execute_result"
    },
    {
     "data": {
      "image/png": "[encoded data removed]",
      "text/plain": [
       "<Figure size 432x288 with 1 Axes>"
      ]
     },
     "metadata": {},
     "output_type": "display_data"
    }
   ],
   "source": [
    "#Create a boxplot to compare Points across the different values for position\n",
    "sns.set()\n",
    "sns.boxplot(x='Position',y='Points',data=df).set_title('Projected Points by Position - Week 10')\n",
    "plt.suptitle(\"\") #Remove the title that is autogenerated by Pandas"
   ]
  },
  {
   "cell_type": "markdown",
   "metadata": {},
   "source": [
    "Looks like the projected points among running backs are more variable than other positions. The quarterback spread this week is very small, ranging between 16 and 24 points. About 75% of the projected points for Tight Ends fall below 8 points."
   ]
  },
  {
   "cell_type": "markdown",
   "metadata": {},
   "source": [
    "Question 2: **Is there a correlation between salary and points?**"
   ]
  },
  {
   "cell_type": "code",
   "execution_count": 11,
   "metadata": {},
   "outputs": [
    {
     "data": {
      "text/plain": [
       "<seaborn.axisgrid.FacetGrid at 0xb040e80>"
      ]
     },
     "execution_count": 11,
     "metadata": {},
     "output_type": "execute_result"
    },
    {
     "data": {
      "image/png": "[encoded data removed]",
      "text/plain": [
       "<Figure size 864x216 with 4 Axes>"
      ]
     },
     "metadata": {},
     "output_type": "display_data"
    }
   ],
   "source": [
    "#Create a scatterplot to visualize the relationship between salary and points for each position\n",
    "g = sns.FacetGrid(df,col='Position')\n",
    "g.map(plt.scatter,'DkSalary',\"Points\")"
   ]
  },
  {
   "cell_type": "markdown",
   "metadata": {},
   "source": [
    "There is certainly a strong positive relationship between Salary and Points. As the Salary increases the Points increase as well. In order to quantify the strength of the linear relationship we would have to compute a correlation analysis which goes beyond the scope of this project."
   ]
  },
  {
   "cell_type": "markdown",
   "metadata": {},
   "source": [
    "## 4. Cleaning the dataset"
   ]
  },
  {
   "cell_type": "markdown",
   "metadata": {},
   "source": [
    "Overall, the dataset is pretty clean. The data types are accurate, we're not missing any data, and we now have column headers that identify all of our variables. We would still like to do a few things:\n",
    "\n",
    "- Add a column that stores the date that this information was collected\n",
    "- Calculate the players expected value and insert it as a new column "
   ]
  },
  {
   "cell_type": "markdown",
   "metadata": {},
   "source": [
    "### Add columns for today's date"
   ]
  },
  {
   "cell_type": "code",
   "execution_count": 12,
   "metadata": {},
   "outputs": [
    {
     "data": {
      "text/html": [
       "<div>\n",
       "<style scoped>\n",
       "    .dataframe tbody tr th:only-of-type {\n",
       "        vertical-align: middle;\n",
       "    }\n",
       "\n",
       "    .dataframe tbody tr th {\n",
       "        vertical-align: top;\n",
       "    }\n",
       "\n",
       "    .dataframe thead th {\n",
       "        text-align: right;\n",
       "    }\n",
       "</style>\n",
       "<table border=\"1\" class=\"dataframe\">\n",
       "  <thead>\n",
       "    <tr style=\"text-align: right;\">\n",
       "      <th></th>\n",
       "      <th>PlayerName</th>\n",
       "      <th>DkSalary</th>\n",
       "      <th>TeamID</th>\n",
       "      <th>Position</th>\n",
       "      <th>OpponentID</th>\n",
       "      <th>Ceiling</th>\n",
       "      <th>Floor</th>\n",
       "      <th>Points</th>\n",
       "      <th>DateAdded</th>\n",
       "    </tr>\n",
       "  </thead>\n",
       "  <tbody>\n",
       "    <tr>\n",
       "      <th>0</th>\n",
       "      <td>Andrew Luck</td>\n",
       "      <td>5900</td>\n",
       "      <td>IND</td>\n",
       "      <td>QB</td>\n",
       "      <td>TEN</td>\n",
       "      <td>30.96756</td>\n",
       "      <td>10.22112</td>\n",
       "      <td>20.28</td>\n",
       "      <td>11/15/2018</td>\n",
       "    </tr>\n",
       "    <tr>\n",
       "      <th>1</th>\n",
       "      <td>Case Keenum</td>\n",
       "      <td>4800</td>\n",
       "      <td>DEN</td>\n",
       "      <td>QB</td>\n",
       "      <td>LAC</td>\n",
       "      <td>28.97450</td>\n",
       "      <td>9.78540</td>\n",
       "      <td>17.35</td>\n",
       "      <td>11/15/2018</td>\n",
       "    </tr>\n",
       "    <tr>\n",
       "      <th>2</th>\n",
       "      <td>Marcus Mariota</td>\n",
       "      <td>5500</td>\n",
       "      <td>TEN</td>\n",
       "      <td>QB</td>\n",
       "      <td>IND</td>\n",
       "      <td>29.98125</td>\n",
       "      <td>9.20655</td>\n",
       "      <td>18.45</td>\n",
       "      <td>11/15/2018</td>\n",
       "    </tr>\n",
       "    <tr>\n",
       "      <th>3</th>\n",
       "      <td>Matthew Stafford</td>\n",
       "      <td>5400</td>\n",
       "      <td>DET</td>\n",
       "      <td>QB</td>\n",
       "      <td>CAR</td>\n",
       "      <td>28.99884</td>\n",
       "      <td>8.05737</td>\n",
       "      <td>19.23</td>\n",
       "      <td>11/15/2018</td>\n",
       "    </tr>\n",
       "    <tr>\n",
       "      <th>4</th>\n",
       "      <td>Cam Newton</td>\n",
       "      <td>6200</td>\n",
       "      <td>CAR</td>\n",
       "      <td>QB</td>\n",
       "      <td>DET</td>\n",
       "      <td>35.45598</td>\n",
       "      <td>11.58086</td>\n",
       "      <td>23.78</td>\n",
       "      <td>11/15/2018</td>\n",
       "    </tr>\n",
       "  </tbody>\n",
       "</table>\n",
       "</div>"
      ],
      "text/plain": [
       "         PlayerName  DkSalary TeamID Position OpponentID   Ceiling     Floor  \\\n",
       "0       Andrew Luck      5900    IND       QB        TEN  30.96756  10.22112   \n",
       "1       Case Keenum      4800    DEN       QB        LAC  28.97450   9.78540   \n",
       "2    Marcus Mariota      5500    TEN       QB        IND  29.98125   9.20655   \n",
       "3  Matthew Stafford      5400    DET       QB        CAR  28.99884   8.05737   \n",
       "4        Cam Newton      6200    CAR       QB        DET  35.45598  11.58086   \n",
       "\n",
       "   Points   DateAdded  \n",
       "0   20.28  11/15/2018  \n",
       "1   17.35  11/15/2018  \n",
       "2   18.45  11/15/2018  \n",
       "3   19.23  11/15/2018  \n",
       "4   23.78  11/15/2018  "
      ]
     },
     "execution_count": 12,
     "metadata": {},
     "output_type": "execute_result"
    }
   ],
   "source": [
    "df['DateAdded']=pd.to_datetime('today').strftime(\"%m/%d/%Y\")\n",
    "df.head()"
   ]
  },
  {
   "cell_type": "markdown",
   "metadata": {},
   "source": [
    "### Add column that shows the players value based on their projected points\n",
    "\n",
    "We're going to compute the H-Value for each player which is described as the following:\n",
    "\n",
    "> H-Value combines overall value (points per dollar) and projected points in a novel formula that provides an accurate ranking of the top overall plays each week. Simply sorting the players by H-Value provides an easy ranking system, and the player with highest H-Value is the single strongest play of the week.\n",
    "    -*Dan Hindrey*, [FootballGuys](https://subscribers.footballguys.com/apps/article.php?article=Draftkings_Book_H_Value_2015)"
   ]
  },
  {
   "cell_type": "markdown",
   "metadata": {},
   "source": [
    "![Value](http://latex.codecogs.com/gif.latex?H_Value%20%3D%20%5Cfrac%7BPoints%20*%20%5Csqrt%7B3%7D%7D%7BSalary%7D%20*%202000)"
   ]
  },
  {
   "cell_type": "code",
   "execution_count": 13,
   "metadata": {},
   "outputs": [
    {
     "data": {
      "text/html": [
       "<div>\n",
       "<style scoped>\n",
       "    .dataframe tbody tr th:only-of-type {\n",
       "        vertical-align: middle;\n",
       "    }\n",
       "\n",
       "    .dataframe tbody tr th {\n",
       "        vertical-align: top;\n",
       "    }\n",
       "\n",
       "    .dataframe thead th {\n",
       "        text-align: right;\n",
       "    }\n",
       "</style>\n",
       "<table border=\"1\" class=\"dataframe\">\n",
       "  <thead>\n",
       "    <tr style=\"text-align: right;\">\n",
       "      <th></th>\n",
       "      <th>PlayerName</th>\n",
       "      <th>DkSalary</th>\n",
       "      <th>TeamID</th>\n",
       "      <th>Position</th>\n",
       "      <th>OpponentID</th>\n",
       "      <th>Ceiling</th>\n",
       "      <th>Floor</th>\n",
       "      <th>Points</th>\n",
       "      <th>DateAdded</th>\n",
       "      <th>H_Value</th>\n",
       "    </tr>\n",
       "  </thead>\n",
       "  <tbody>\n",
       "    <tr>\n",
       "      <th>0</th>\n",
       "      <td>Andrew Luck</td>\n",
       "      <td>5900</td>\n",
       "      <td>IND</td>\n",
       "      <td>QB</td>\n",
       "      <td>TEN</td>\n",
       "      <td>30.96756</td>\n",
       "      <td>10.22112</td>\n",
       "      <td>20.28</td>\n",
       "      <td>11/15/2018</td>\n",
       "      <td>11.907115</td>\n",
       "    </tr>\n",
       "    <tr>\n",
       "      <th>1</th>\n",
       "      <td>Case Keenum</td>\n",
       "      <td>4800</td>\n",
       "      <td>DEN</td>\n",
       "      <td>QB</td>\n",
       "      <td>LAC</td>\n",
       "      <td>28.97450</td>\n",
       "      <td>9.78540</td>\n",
       "      <td>17.35</td>\n",
       "      <td>11/15/2018</td>\n",
       "      <td>12.521284</td>\n",
       "    </tr>\n",
       "    <tr>\n",
       "      <th>2</th>\n",
       "      <td>Marcus Mariota</td>\n",
       "      <td>5500</td>\n",
       "      <td>TEN</td>\n",
       "      <td>QB</td>\n",
       "      <td>IND</td>\n",
       "      <td>29.98125</td>\n",
       "      <td>9.20655</td>\n",
       "      <td>18.45</td>\n",
       "      <td>11/15/2018</td>\n",
       "      <td>11.620486</td>\n",
       "    </tr>\n",
       "    <tr>\n",
       "      <th>3</th>\n",
       "      <td>Matthew Stafford</td>\n",
       "      <td>5400</td>\n",
       "      <td>DET</td>\n",
       "      <td>QB</td>\n",
       "      <td>CAR</td>\n",
       "      <td>28.99884</td>\n",
       "      <td>8.05737</td>\n",
       "      <td>19.23</td>\n",
       "      <td>11/15/2018</td>\n",
       "      <td>12.336051</td>\n",
       "    </tr>\n",
       "    <tr>\n",
       "      <th>4</th>\n",
       "      <td>Cam Newton</td>\n",
       "      <td>6200</td>\n",
       "      <td>CAR</td>\n",
       "      <td>QB</td>\n",
       "      <td>DET</td>\n",
       "      <td>35.45598</td>\n",
       "      <td>11.58086</td>\n",
       "      <td>23.78</td>\n",
       "      <td>11/15/2018</td>\n",
       "      <td>13.286506</td>\n",
       "    </tr>\n",
       "  </tbody>\n",
       "</table>\n",
       "</div>"
      ],
      "text/plain": [
       "         PlayerName  DkSalary TeamID Position OpponentID   Ceiling     Floor  \\\n",
       "0       Andrew Luck      5900    IND       QB        TEN  30.96756  10.22112   \n",
       "1       Case Keenum      4800    DEN       QB        LAC  28.97450   9.78540   \n",
       "2    Marcus Mariota      5500    TEN       QB        IND  29.98125   9.20655   \n",
       "3  Matthew Stafford      5400    DET       QB        CAR  28.99884   8.05737   \n",
       "4        Cam Newton      6200    CAR       QB        DET  35.45598  11.58086   \n",
       "\n",
       "   Points   DateAdded    H_Value  \n",
       "0   20.28  11/15/2018  11.907115  \n",
       "1   17.35  11/15/2018  12.521284  \n",
       "2   18.45  11/15/2018  11.620486  \n",
       "3   19.23  11/15/2018  12.336051  \n",
       "4   23.78  11/15/2018  13.286506  "
      ]
     },
     "execution_count": 13,
     "metadata": {},
     "output_type": "execute_result"
    }
   ],
   "source": [
    "#Add new column that calculates a players H_Value and print the first 5 rows\n",
    "\n",
    "df['H_Value'] = df.Points * np.sqrt(3) / df.DkSalary * 2000\n",
    "df.head()"
   ]
  },
  {
   "cell_type": "markdown",
   "metadata": {},
   "source": [
    "Sort the dataframe to see who the highest valued players are for this week"
   ]
  },
  {
   "cell_type": "code",
   "execution_count": 25,
   "metadata": {},
   "outputs": [
    {
     "data": {
      "text/html": [
       "<div>\n",
       "<style scoped>\n",
       "    .dataframe tbody tr th:only-of-type {\n",
       "        vertical-align: middle;\n",
       "    }\n",
       "\n",
       "    .dataframe tbody tr th {\n",
       "        vertical-align: top;\n",
       "    }\n",
       "\n",
       "    .dataframe thead th {\n",
       "        text-align: right;\n",
       "    }\n",
       "</style>\n",
       "<table border=\"1\" class=\"dataframe\">\n",
       "  <thead>\n",
       "    <tr style=\"text-align: right;\">\n",
       "      <th></th>\n",
       "      <th>PlayerName</th>\n",
       "      <th>DkSalary</th>\n",
       "      <th>TeamID</th>\n",
       "      <th>Position</th>\n",
       "      <th>OpponentID</th>\n",
       "      <th>Ceiling</th>\n",
       "      <th>Floor</th>\n",
       "      <th>Points</th>\n",
       "      <th>DateAdded</th>\n",
       "      <th>H_Value</th>\n",
       "    </tr>\n",
       "  </thead>\n",
       "  <tbody>\n",
       "    <tr>\n",
       "      <th>6</th>\n",
       "      <td>Derek Carr</td>\n",
       "      <td>4700</td>\n",
       "      <td>OAK</td>\n",
       "      <td>QB</td>\n",
       "      <td>ARI</td>\n",
       "      <td>31.27436</td>\n",
       "      <td>10.32528</td>\n",
       "      <td>17.56</td>\n",
       "      <td>11/13/2018</td>\n",
       "      <td>12.942473</td>\n",
       "    </tr>\n",
       "    <tr>\n",
       "      <th>17</th>\n",
       "      <td>Deshaun Watson</td>\n",
       "      <td>5700</td>\n",
       "      <td>HOU</td>\n",
       "      <td>QB</td>\n",
       "      <td>WAS</td>\n",
       "      <td>34.69074</td>\n",
       "      <td>11.37332</td>\n",
       "      <td>21.14</td>\n",
       "      <td>11/13/2018</td>\n",
       "      <td>12.847563</td>\n",
       "    </tr>\n",
       "    <tr>\n",
       "      <th>9</th>\n",
       "      <td>Blake Bortles</td>\n",
       "      <td>5100</td>\n",
       "      <td>JAC</td>\n",
       "      <td>QB</td>\n",
       "      <td>PIT</td>\n",
       "      <td>29.38614</td>\n",
       "      <td>10.19249</td>\n",
       "      <td>18.91</td>\n",
       "      <td>11/13/2018</td>\n",
       "      <td>12.844345</td>\n",
       "    </tr>\n",
       "    <tr>\n",
       "      <th>4</th>\n",
       "      <td>Cam Newton</td>\n",
       "      <td>6200</td>\n",
       "      <td>CAR</td>\n",
       "      <td>QB</td>\n",
       "      <td>DET</td>\n",
       "      <td>34.21845</td>\n",
       "      <td>11.17665</td>\n",
       "      <td>22.95</td>\n",
       "      <td>11/13/2018</td>\n",
       "      <td>12.822763</td>\n",
       "    </tr>\n",
       "    <tr>\n",
       "      <th>7</th>\n",
       "      <td>Patrick Mahomes</td>\n",
       "      <td>7200</td>\n",
       "      <td>KCC</td>\n",
       "      <td>QB</td>\n",
       "      <td>LAR</td>\n",
       "      <td>42.51744</td>\n",
       "      <td>15.39792</td>\n",
       "      <td>26.64</td>\n",
       "      <td>11/13/2018</td>\n",
       "      <td>12.817176</td>\n",
       "    </tr>\n",
       "    <tr>\n",
       "      <th>8</th>\n",
       "      <td>Jared Goff</td>\n",
       "      <td>6100</td>\n",
       "      <td>LAR</td>\n",
       "      <td>QB</td>\n",
       "      <td>KCC</td>\n",
       "      <td>35.52356</td>\n",
       "      <td>11.58766</td>\n",
       "      <td>22.37</td>\n",
       "      <td>11/13/2018</td>\n",
       "      <td>12.703599</td>\n",
       "    </tr>\n",
       "    <tr>\n",
       "      <th>15</th>\n",
       "      <td>Eli Manning</td>\n",
       "      <td>5200</td>\n",
       "      <td>NYG</td>\n",
       "      <td>QB</td>\n",
       "      <td>TBB</td>\n",
       "      <td>28.11319</td>\n",
       "      <td>9.18904</td>\n",
       "      <td>18.83</td>\n",
       "      <td>11/13/2018</td>\n",
       "      <td>12.544045</td>\n",
       "    </tr>\n",
       "    <tr>\n",
       "      <th>16</th>\n",
       "      <td>Alex Smith</td>\n",
       "      <td>4800</td>\n",
       "      <td>WAS</td>\n",
       "      <td>QB</td>\n",
       "      <td>HOU</td>\n",
       "      <td>28.72914</td>\n",
       "      <td>9.29830</td>\n",
       "      <td>17.38</td>\n",
       "      <td>11/13/2018</td>\n",
       "      <td>12.542935</td>\n",
       "    </tr>\n",
       "    <tr>\n",
       "      <th>20</th>\n",
       "      <td>Drew Brees</td>\n",
       "      <td>6500</td>\n",
       "      <td>NOS</td>\n",
       "      <td>QB</td>\n",
       "      <td>PHI</td>\n",
       "      <td>36.57360</td>\n",
       "      <td>12.98304</td>\n",
       "      <td>23.52</td>\n",
       "      <td>11/13/2018</td>\n",
       "      <td>12.534718</td>\n",
       "    </tr>\n",
       "    <tr>\n",
       "      <th>1</th>\n",
       "      <td>Case Keenum</td>\n",
       "      <td>4800</td>\n",
       "      <td>DEN</td>\n",
       "      <td>QB</td>\n",
       "      <td>LAC</td>\n",
       "      <td>28.97450</td>\n",
       "      <td>9.78540</td>\n",
       "      <td>17.35</td>\n",
       "      <td>11/13/2018</td>\n",
       "      <td>12.521284</td>\n",
       "    </tr>\n",
       "  </tbody>\n",
       "</table>\n",
       "</div>"
      ],
      "text/plain": [
       "         PlayerName  DkSalary TeamID Position OpponentID   Ceiling     Floor  \\\n",
       "6        Derek Carr      4700    OAK       QB        ARI  31.27436  10.32528   \n",
       "17   Deshaun Watson      5700    HOU       QB        WAS  34.69074  11.37332   \n",
       "9     Blake Bortles      5100    JAC       QB        PIT  29.38614  10.19249   \n",
       "4        Cam Newton      6200    CAR       QB        DET  34.21845  11.17665   \n",
       "7   Patrick Mahomes      7200    KCC       QB        LAR  42.51744  15.39792   \n",
       "8        Jared Goff      6100    LAR       QB        KCC  35.52356  11.58766   \n",
       "15      Eli Manning      5200    NYG       QB        TBB  28.11319   9.18904   \n",
       "16       Alex Smith      4800    WAS       QB        HOU  28.72914   9.29830   \n",
       "20       Drew Brees      6500    NOS       QB        PHI  36.57360  12.98304   \n",
       "1       Case Keenum      4800    DEN       QB        LAC  28.97450   9.78540   \n",
       "\n",
       "    Points   DateAdded    H_Value  \n",
       "6    17.56  11/13/2018  12.942473  \n",
       "17   21.14  11/13/2018  12.847563  \n",
       "9    18.91  11/13/2018  12.844345  \n",
       "4    22.95  11/13/2018  12.822763  \n",
       "7    26.64  11/13/2018  12.817176  \n",
       "8    22.37  11/13/2018  12.703599  \n",
       "15   18.83  11/13/2018  12.544045  \n",
       "16   17.38  11/13/2018  12.542935  \n",
       "20   23.52  11/13/2018  12.534718  \n",
       "1    17.35  11/13/2018  12.521284  "
      ]
     },
     "execution_count": 25,
     "metadata": {},
     "output_type": "execute_result"
    }
   ],
   "source": [
    "#Sort H_VALUE in descending order and print the Top 25 players for the week\n",
    "\n",
    "df.sort_values(by='H_Value',ascending=False).head(10)"
   ]
  },
  {
   "cell_type": "markdown",
   "metadata": {},
   "source": [
    "## 5. Wrapping up\n",
    "\n",
    "At this point in the notebook I've done the following:\n",
    " - Pulled data from the web\n",
    " - Loaded the data into a DataFrame\n",
    " - Conducted exploratory data analysis\n",
    " - Taken basic steps to clean the dataset\n",
    "\n",
    "The last step is to export the data as a flat file. In future projects I will demonstrate how to load a DataFrame directly into an existing database table."
   ]
  },
  {
   "cell_type": "code",
   "execution_count": 14,
   "metadata": {},
   "outputs": [],
   "source": [
    "#Export DataFrame to a .csv file\n",
    "df.to_csv(file_name + timestr + '.csv')"
   ]
  },
  {
   "cell_type": "code",
   "execution_count": null,
   "metadata": {},
   "outputs": [],
   "source": []
  }
 ],
 "metadata": {
  "kernelspec": {
   "display_name": "Python 3",
   "language": "python",
   "name": "python3"
  },
  "language_info": {
   "codemirror_mode": {
    "name": "ipython",
    "version": 3
   },
   "file_extension": ".py",
   "mimetype": "text/x-python",
   "name": "python",
   "nbconvert_exporter": "python",
   "pygments_lexer": "ipython3",
   "version": "3.6.5"
  }
 },
 "nbformat": 4,
 "nbformat_minor": 2
}
